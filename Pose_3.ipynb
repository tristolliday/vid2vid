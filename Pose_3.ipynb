{
  "nbformat": 4,
  "nbformat_minor": 0,
  "metadata": {
    "colab": {
      "name": "Pose 3.ipynb",
      "provenance": [],
      "collapsed_sections": [],
      "include_colab_link": true
    },
    "kernelspec": {
      "name": "python3",
      "display_name": "Python 3"
    },
    "accelerator": "GPU"
  },
  "cells": [
    {
      "cell_type": "markdown",
      "metadata": {
        "id": "view-in-github",
        "colab_type": "text"
      },
      "source": [
        "<a href=\"https://colab.research.google.com/github/tristolliday/vid2vid/blob/master/Pose_3.ipynb\" target=\"_parent\"><img src=\"https://colab.research.google.com/assets/colab-badge.svg\" alt=\"Open In Colab\"/></a>"
      ]
    },
    {
      "cell_type": "code",
      "metadata": {
        "id": "Fx7UAinFSQ71",
        "colab_type": "code",
        "colab": {}
      },
      "source": [
        "!wget https://repo.anaconda.com/archive/Anaconda3-5.2.0-Linux-x86_64.sh && bash Anaconda3-5.2.0-Linux-x86_64.sh -bfp /usr/local"
      ],
      "execution_count": 0,
      "outputs": []
    },
    {
      "cell_type": "code",
      "metadata": {
        "id": "zQTJlWjnTU5D",
        "colab_type": "code",
        "colab": {}
      },
      "source": [
        "import sys\n",
        "sys.path.append('/usr/local/lib/python3.6/site-packages')"
      ],
      "execution_count": 0,
      "outputs": []
    },
    {
      "cell_type": "code",
      "metadata": {
        "id": "VIFRQn5rTbjr",
        "colab_type": "code",
        "colab": {}
      },
      "source": [
        "!conda install pytorch==1.2.0 torchvision==0.4.0 -c pytorch"
      ],
      "execution_count": 0,
      "outputs": []
    },
    {
      "cell_type": "code",
      "metadata": {
        "id": "vX0U3rU6Wn6j",
        "colab_type": "code",
        "colab": {}
      },
      "source": [
        "pip install dominate requests"
      ],
      "execution_count": 0,
      "outputs": []
    },
    {
      "cell_type": "code",
      "metadata": {
        "id": "XQD3Qw-cW6e1",
        "colab_type": "code",
        "colab": {}
      },
      "source": [
        "!git clone https://github.com/tristolliday/vid2vid\n"
      ],
      "execution_count": 0,
      "outputs": []
    },
    {
      "cell_type": "code",
      "metadata": {
        "id": "Hul7OGEAXTAS",
        "colab_type": "code",
        "colab": {}
      },
      "source": [
        "!python /content/vid2vid/scripts/download_datasets.py"
      ],
      "execution_count": 0,
      "outputs": []
    },
    {
      "cell_type": "code",
      "metadata": {
        "id": "m3OJ_zhsXizy",
        "colab_type": "code",
        "colab": {}
      },
      "source": [
        "!python /content/vid2vid/scripts/download_flownet2.py"
      ],
      "execution_count": 0,
      "outputs": []
    },
    {
      "cell_type": "code",
      "metadata": {
        "id": "hBMIlL7laZpA",
        "colab_type": "code",
        "colab": {}
      },
      "source": [
        "!conda update anaconda-navigator  "
      ],
      "execution_count": 0,
      "outputs": []
    },
    {
      "cell_type": "code",
      "metadata": {
        "id": "tn6bcTa-bFgX",
        "colab_type": "code",
        "colab": {}
      },
      "source": [
        "!conda install opencv"
      ],
      "execution_count": 0,
      "outputs": []
    },
    {
      "cell_type": "code",
      "metadata": {
        "id": "t5xsNYTAXX3H",
        "colab_type": "code",
        "colab": {}
      },
      "source": [
        "!python /content/vid2vid/scripts/download_gdrive.py"
      ],
      "execution_count": 0,
      "outputs": []
    },
    {
      "cell_type": "code",
      "metadata": {
        "id": "wzMsJEIpYy36",
        "colab_type": "code",
        "colab": {}
      },
      "source": [
        "!python /content/vid2vid/scripts/download_datasets.py"
      ],
      "execution_count": 0,
      "outputs": []
    },
    {
      "cell_type": "code",
      "metadata": {
        "id": "iZhk0vq3W2py",
        "colab_type": "code",
        "colab": {}
      },
      "source": [
        "!python /content/vid2vid/scripts/download_models_flownet2.py"
      ],
      "execution_count": 0,
      "outputs": []
    },
    {
      "cell_type": "code",
      "metadata": {
        "id": "cTMrZrhFZsXX",
        "colab_type": "code",
        "colab": {
          "base_uri": "https://localhost:8080/",
          "height": 1000
        },
        "outputId": "a2bb338b-11a1-49fc-f345-c59f4cb221b8"
      },
      "source": [
        "!/content/vid2vid/scripts/pose/train_256p.sh"
      ],
      "execution_count": 22,
      "outputs": [
        {
          "output_type": "stream",
          "text": [
            "------------ Options -------------\n",
            "TTUR: False\n",
            "add_face_disc: False\n",
            "basic_point_only: False\n",
            "batchSize: 8\n",
            "beta1: 0.5\n",
            "checkpoints_dir: ./checkpoints\n",
            "continue_train: False\n",
            "dataroot: datasets/pose\n",
            "dataset_mode: pose\n",
            "debug: False\n",
            "densepose_only: False\n",
            "display_freq: 100\n",
            "display_id: 0\n",
            "display_winsize: 512\n",
            "feat_num: 3\n",
            "fg: False\n",
            "fg_labels: [26]\n",
            "fineSize: 256\n",
            "fp16: False\n",
            "gan_mode: ls\n",
            "gpu_ids: [0, 1, 2, 3, 4, 5, 6, 7]\n",
            "input_nc: 6\n",
            "isTrain: True\n",
            "label_feat: False\n",
            "label_nc: 0\n",
            "lambda_F: 10.0\n",
            "lambda_T: 10.0\n",
            "lambda_feat: 10.0\n",
            "loadSize: 384\n",
            "load_features: False\n",
            "load_pretrain: \n",
            "local_rank: 0\n",
            "lr: 0.0002\n",
            "max_dataset_size: inf\n",
            "max_frames_backpropagate: 1\n",
            "max_frames_per_gpu: 3\n",
            "max_t_step: 4\n",
            "model: vid2vid\n",
            "nThreads: 2\n",
            "n_blocks: 9\n",
            "n_blocks_local: 3\n",
            "n_downsample_E: 3\n",
            "n_downsample_G: 3\n",
            "n_frames_D: 3\n",
            "n_frames_G: 3\n",
            "n_frames_total: 12\n",
            "n_gpus_gen: 8\n",
            "n_layers_D: 3\n",
            "n_local_enhancers: 1\n",
            "n_scales_spatial: 1\n",
            "n_scales_temporal: 2\n",
            "name: pose2body_256p\n",
            "ndf: 64\n",
            "nef: 32\n",
            "netE: simple\n",
            "netG: composite\n",
            "ngf: 128\n",
            "niter: 5\n",
            "niter_decay: 5\n",
            "niter_fix_global: 0\n",
            "niter_step: 5\n",
            "no_canny_edge: False\n",
            "no_dist_map: False\n",
            "no_first_img: True\n",
            "no_flip: False\n",
            "no_flow: False\n",
            "no_ganFeat: False\n",
            "no_html: False\n",
            "no_vgg: False\n",
            "norm: batch\n",
            "num_D: 2\n",
            "openpose_only: False\n",
            "output_nc: 3\n",
            "phase: train\n",
            "pool_size: 1\n",
            "print_freq: 100\n",
            "random_drop_prob: 0.05\n",
            "random_scale_points: False\n",
            "remove_face_labels: False\n",
            "resize_or_crop: randomScaleHeight_and_scaledCrop\n",
            "save_epoch_freq: 1\n",
            "save_latest_freq: 1000\n",
            "serial_batches: False\n",
            "sparse_D: False\n",
            "tf_log: False\n",
            "use_instance: False\n",
            "use_single_G: False\n",
            "which_epoch: latest\n",
            "-------------- End ----------------\n",
            "CustomDatasetDataLoader\n",
            "dataset [PoseDataset] was created\n",
            "#training videos = 98\n",
            "vid2vid\n",
            "---------- Networks initialized -------------\n",
            "-----------------------------------------------\n",
            "---------- Networks initialized -------------\n",
            "-----------------------------------------------\n",
            "Traceback (most recent call last):\n",
            "  File \"/content/vid2vid/train.py\", line 148, in <module>\n",
            "    train()\n",
            "  File \"/content/vid2vid/train.py\", line 28, in train\n",
            "    models = create_model(opt)\n",
            "  File \"/content/vid2vid/models/models.py\", line 81, in create_model\n",
            "    modelG, modelD, flownet = wrap_model(opt, modelG, modelD, flowNet)\n",
            "  File \"/content/vid2vid/models/models.py\", line 12, in wrap_model\n",
            "    modelG = myModel(opt, modelG)\n",
            "  File \"/content/vid2vid/models/models.py\", line 31, in __init__\n",
            "    self.model = nn.DataParallel(model, device_ids=opt.gpu_ids)\n",
            "  File \"/usr/local/lib/python3.6/site-packages/torch/nn/parallel/data_parallel.py\", line 133, in __init__\n",
            "    _check_balance(self.device_ids)\n",
            "  File \"/usr/local/lib/python3.6/site-packages/torch/nn/parallel/data_parallel.py\", line 19, in _check_balance\n",
            "    dev_props = [torch.cuda.get_device_properties(i) for i in device_ids]\n",
            "  File \"/usr/local/lib/python3.6/site-packages/torch/nn/parallel/data_parallel.py\", line 19, in <listcomp>\n",
            "    dev_props = [torch.cuda.get_device_properties(i) for i in device_ids]\n",
            "  File \"/usr/local/lib/python3.6/site-packages/torch/cuda/__init__.py\", line 318, in get_device_properties\n",
            "    raise AssertionError(\"Invalid device id\")\n",
            "AssertionError: Invalid device id\n"
          ],
          "name": "stdout"
        }
      ]
    }
  ]
}