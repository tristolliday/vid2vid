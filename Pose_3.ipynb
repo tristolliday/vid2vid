{
  "nbformat": 4,
  "nbformat_minor": 0,
  "metadata": {
    "colab": {
      "name": "Pose 3.ipynb",
      "provenance": [],
      "collapsed_sections": [],
      "toc_visible": true,
      "include_colab_link": true
    },
    "kernelspec": {
      "name": "python3",
      "display_name": "Python 3"
    },
    "accelerator": "GPU"
  },
  "cells": [
    {
      "cell_type": "markdown",
      "metadata": {
        "id": "view-in-github",
        "colab_type": "text"
      },
      "source": [
        "<a href=\"https://colab.research.google.com/github/tristolliday/vid2vid/blob/master/Pose_3.ipynb\" target=\"_parent\"><img src=\"https://colab.research.google.com/assets/colab-badge.svg\" alt=\"Open In Colab\"/></a>"
      ]
    },
    {
      "cell_type": "code",
      "metadata": {
        "id": "Fx7UAinFSQ71",
        "colab_type": "code",
        "colab": {}
      },
      "source": [
        "!wget https://repo.anaconda.com/archive/Anaconda3-5.2.0-Linux-x86_64.sh && bash Anaconda3-5.2.0-Linux-x86_64.sh -bfp /usr/local"
      ],
      "execution_count": 0,
      "outputs": []
    },
    {
      "cell_type": "code",
      "metadata": {
        "id": "zQTJlWjnTU5D",
        "colab_type": "code",
        "colab": {}
      },
      "source": [
        "import sys\n",
        "sys.path.append('/usr/local/lib/python3.6/site-packages')"
      ],
      "execution_count": 0,
      "outputs": []
    },
    {
      "cell_type": "code",
      "metadata": {
        "id": "VIFRQn5rTbjr",
        "colab_type": "code",
        "colab": {}
      },
      "source": [
        "!conda install pytorch==1.2.0 torchvision==0.4.0 -c pytorch"
      ],
      "execution_count": 0,
      "outputs": []
    },
    {
      "cell_type": "code",
      "metadata": {
        "id": "vX0U3rU6Wn6j",
        "colab_type": "code",
        "colab": {}
      },
      "source": [
        "pip install dominate requests"
      ],
      "execution_count": 0,
      "outputs": []
    },
    {
      "cell_type": "code",
      "metadata": {
        "id": "XQD3Qw-cW6e1",
        "colab_type": "code",
        "colab": {}
      },
      "source": [
        "!git clone https://github.com/tristolliday/vid2vid\n"
      ],
      "execution_count": 0,
      "outputs": []
    },
    {
      "cell_type": "code",
      "metadata": {
        "id": "Hul7OGEAXTAS",
        "colab_type": "code",
        "colab": {}
      },
      "source": [
        "!python /content/vid2vid/scripts/download_datasets.py"
      ],
      "execution_count": 0,
      "outputs": []
    },
    {
      "cell_type": "code",
      "metadata": {
        "id": "m3OJ_zhsXizy",
        "colab_type": "code",
        "colab": {}
      },
      "source": [
        "!python /content/vid2vid/scripts/download_flownet2.py"
      ],
      "execution_count": 0,
      "outputs": []
    },
    {
      "cell_type": "code",
      "metadata": {
        "id": "hBMIlL7laZpA",
        "colab_type": "code",
        "colab": {}
      },
      "source": [
        "!conda update anaconda-navigator  "
      ],
      "execution_count": 0,
      "outputs": []
    },
    {
      "cell_type": "code",
      "metadata": {
        "id": "tn6bcTa-bFgX",
        "colab_type": "code",
        "colab": {}
      },
      "source": [
        "!conda install opencv"
      ],
      "execution_count": 0,
      "outputs": []
    },
    {
      "cell_type": "code",
      "metadata": {
        "id": "t5xsNYTAXX3H",
        "colab_type": "code",
        "colab": {}
      },
      "source": [
        "!python /content/vid2vid/scripts/download_gdrive.py"
      ],
      "execution_count": 0,
      "outputs": []
    },
    {
      "cell_type": "code",
      "metadata": {
        "id": "wzMsJEIpYy36",
        "colab_type": "code",
        "colab": {}
      },
      "source": [
        "!python /content/vid2vid/scripts/download_datasets.py"
      ],
      "execution_count": 0,
      "outputs": []
    },
    {
      "cell_type": "code",
      "metadata": {
        "id": "iZhk0vq3W2py",
        "colab_type": "code",
        "colab": {}
      },
      "source": [
        "!python /content/vid2vid/scripts/download_models_flownet2.py"
      ],
      "execution_count": 0,
      "outputs": []
    },
    {
      "cell_type": "code",
      "metadata": {
        "id": "8pxQOYkmbAov",
        "colab_type": "code",
        "colab": {}
      },
      "source": [
        "!pip3 install http://download.pytorch.org/whl/cu80/torch-0.3.0.post4-cp36-cp36m-linux_x86_64.whl "
      ],
      "execution_count": 0,
      "outputs": []
    },
    {
      "cell_type": "code",
      "metadata": {
        "id": "A7DAqy1EXp0N",
        "colab_type": "code",
        "colab": {}
      },
      "source": [
        "!pip3 install torchvision"
      ],
      "execution_count": 0,
      "outputs": []
    },
    {
      "cell_type": "code",
      "metadata": {
        "id": "cTMrZrhFZsXX",
        "colab_type": "code",
        "colab": {}
      },
      "source": [
        "!/content/vid2vid/scripts/pose/train_g1_256p.sh"
      ],
      "execution_count": 0,
      "outputs": []
    },
    {
      "cell_type": "code",
      "metadata": {
        "id": "VTvHFPBOyRcm",
        "colab_type": "code",
        "colab": {}
      },
      "source": [
        "!/content/vid2vid/scripts/pose/test_g1_256p.sh"
      ],
      "execution_count": 0,
      "outputs": []
    }
  ]
}